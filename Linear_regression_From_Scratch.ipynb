{
  "nbformat": 4,
  "nbformat_minor": 0,
  "metadata": {
    "colab": {
      "provenance": [],
      "authorship_tag": "ABX9TyNuXYrA9a6b4MCBLexukJ5F",
      "include_colab_link": true
    },
    "kernelspec": {
      "name": "python3",
      "display_name": "Python 3"
    },
    "language_info": {
      "name": "python"
    }
  },
  "cells": [
    {
      "cell_type": "markdown",
      "metadata": {
        "id": "view-in-github",
        "colab_type": "text"
      },
      "source": [
        "<a href=\"https://colab.research.google.com/github/suryansh-raghuvanshi-data/ML_From_Scratch/blob/main/Linear_regression_From_Scratch.ipynb\" target=\"_parent\"><img src=\"https://colab.research.google.com/assets/colab-badge.svg\" alt=\"Open In Colab\"/></a>"
      ]
    },
    {
      "cell_type": "markdown",
      "source": [
        "#Linear Regression"
      ],
      "metadata": {
        "id": "lX1wIgVVqqUP"
      }
    },
    {
      "cell_type": "markdown",
      "source": [
        "![Linear_regression.png](data:image/png;base64,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)"
      ],
      "metadata": {
        "id": "Ael74ItR-kZR"
      }
    },
    {
      "cell_type": "code",
      "execution_count": null,
      "metadata": {
        "id": "PBcSbqLqlnC7"
      },
      "outputs": [],
      "source": [
        "import numpy as np\n",
        "import pandas as pd\n",
        "import matplotlib.pyplot as plt"
      ]
    },
    {
      "cell_type": "markdown",
      "source": [
        "There are 4 steps to find the equation for best fit line in Linear Regression(Univariate):\n",
        "\n",
        "1) Hypothesis Funtion: We need to define the hypothesis wrt the predicition i.e. which model will best predicit the result. In this case we assume it is univariate linear regression model. Y= W0 + W1X\n",
        "\n",
        "2) Cost Function: We need to define the cost function and find the error for our the best fit line.\n",
        "\n",
        "3) Gradient: We need to differentiation the error function to find the minima i.e. the value of W0 and W1 where error will be minimum. Since we don't have any differentiation function, we will be manually calculating the differentiation each time and using it to find the change in cost function.\n",
        "\n",
        "4) Gradient Descent: Once we know the change in the cost function wrt weights i.e. gradient, we need to minize the loss by adjusting the weights. We do this by defining the hyperparameter learning rate and max steps and our weight function will take care of itself. It is able to do this because gradient is positive if there the error is moving toward minima and negative if error is moving away from minima."
      ],
      "metadata": {
        "id": "Dv870Ed8pddf"
      }
    },
    {
      "cell_type": "markdown",
      "source": [
        "P.S.- Sometimes it is okay to approximate gradient as error function and use the error function in gradient descent. Especially in case of non-differentiable cost function."
      ],
      "metadata": {
        "id": "x3-snUM0w2eo"
      }
    },
    {
      "cell_type": "markdown",
      "source": [
        "Here's a general relationship between the learning rate and the number of iterations:\n",
        "\n",
        "\n",
        "---\n",
        "\n",
        "**High Learning Rate, Few Iterations:** If you set a high learning rate and a small number of iterations, the model might converge quickly but may not reach the optimal solution. It might oscillate around the optimal values and possibly overshoot the minimum of the cost function. In this case, the model might not learn effectively and could exhibit instability.\n",
        "\n",
        "**High Learning Rate, Many Iterations:** With a high learning rate and a large number of iterations, the model might converge quickly, but there's a risk of overshooting and oscillations. It might take a zigzag path to convergence. However, if the learning rate is too high, it may never converge and diverge instead.\n",
        "\n",
        "**Low Learning Rate, Few Iterations:** A low learning rate with a small number of iterations may lead to very slow convergence. The model might require more iterations to reach a good solution, and it could get stuck in local minima if the learning rate is too low.\n",
        "\n",
        "**Low Learning Rate, Many Iterations:** A low learning rate with a large number of iterations can be a good choice in many cases. It allows the model to converge gradually, taking small steps towards the optimal solution. It's more stable and is less likely to overshoot or oscillate.\n",
        "\n",
        "The ideal learning rate and number of iterations depend on the specific problem, the data, and the model architecture."
      ],
      "metadata": {
        "id": "WnkS_D5-xeob"
      }
    },
    {
      "cell_type": "code",
      "source": [
        "def hypothesis(x, weights):\n",
        "  # y_hat = wo + w1*x\n",
        "  y_hat = weights[0] +  weights[1] * x\n",
        "  return y_hat"
      ],
      "metadata": {
        "id": "LrBSkovYpahw"
      },
      "execution_count": null,
      "outputs": []
    },
    {
      "cell_type": "code",
      "source": [
        "def error(X, Y, weights):\n",
        "  #Error/Cost-fun is defined in terms of Mean Sq Error\n",
        "  n = len(Y)\n",
        "  err = 0\n",
        "\n",
        "  for i in range(n):\n",
        "    y_i = Y[i] # actual price\n",
        "    x_i = X[i] # a single feature for ith data point\n",
        "    y_hat_i = hypothesis(x_i, weights=weights)\n",
        "    error_i = (y_i-y_hat_i)**2\n",
        "    err = error_i+err\n",
        "  err = err/n\n",
        "  return err"
      ],
      "metadata": {
        "id": "ide_VqDtyWQ7"
      },
      "execution_count": null,
      "outputs": []
    },
    {
      "cell_type": "code",
      "source": [
        "def gradient(X, Y, weights):\n",
        "\n",
        "    # gradient formula:\n",
        "    # w0 gradient: -2*(y-y_hat) -> d(y-w0-w1x)^2/dw0\n",
        "    # w1 gradient: -2*(y-y_hat)*x -> d(y-w0-w1x)^2/dw0\n",
        "    n = len(Y)\n",
        "\n",
        "    gradients = np.zeros((2,)) #initializing gradient from 0\n",
        "\n",
        "    for i in range(n):\n",
        "        y_i = Y[i] # actual price\n",
        "        x_i = X[i] # a single feature for ith data point\n",
        "        y_hat_i = hypothesis(x_i, weights=weights)\n",
        "        gradients[0] += -2*(y_i-y_hat_i)# w0 gradient\n",
        "        gradients[1] += -2*(y_i-y_hat_i)*x_i# w1 gradient\n",
        "    return gradients/n"
      ],
      "metadata": {
        "id": "nOhe-OJP1nnw"
      },
      "execution_count": null,
      "outputs": []
    },
    {
      "cell_type": "code",
      "source": [
        "def gradient_descent(X,Y, learning_rate = 0.1, max_steps = 100):\n",
        "\n",
        "  # step 1: starting weights\n",
        "  weights = np.random.rand(2) # eg: array([0.66689291, 0.39290544])\n",
        "  # step 2: do max_steps of gradient descent\n",
        "  error_list = []\n",
        "  weight_list = []\n",
        "  for i in range(max_steps):\n",
        "      error_list.append(error(X, Y, weights)) # storing error for plotting\n",
        "      gradients = gradient(X, Y, weights)\n",
        "      weights [0] = weights [0]-learning_rate*gradients[0]  # w0\n",
        "      weights [1] = weights [1]-learning_rate*gradients[1]  # w1\n",
        "      weight_list.append((weight[0],weight[1]))\n",
        "  return weights, error_list, weight_list"
      ],
      "metadata": {
        "id": "BISOpkZL2JTe"
      },
      "execution_count": null,
      "outputs": []
    },
    {
      "cell_type": "code",
      "source": [
        "weight, error_list, weight_list = gradient_descent(X,Y,epochs=20)"
      ],
      "metadata": {
        "id": "lxkkxtDe2fi7"
      },
      "execution_count": null,
      "outputs": []
    },
    {
      "cell_type": "markdown",
      "source": [
        "How does error changes during the 'Training'?"
      ],
      "metadata": {
        "id": "jcVRsYWw20fU"
      }
    },
    {
      "cell_type": "code",
      "source": [
        "fig = plt.figure()\n",
        "plt.plot(error_list)\n",
        "plt.title(\"Reduction in error over time\")\n",
        "plt.xlabel(\"iteration\")\n",
        "plt.ylabel(\"Error\")\n",
        "plt.show()"
      ],
      "metadata": {
        "id": "ClLTZBpv2xVP"
      },
      "execution_count": null,
      "outputs": []
    },
    {
      "cell_type": "markdown",
      "source": [
        "How do the parameters change during the training process?"
      ],
      "metadata": {
        "id": "FIiukomD24Ok"
      }
    },
    {
      "cell_type": "code",
      "source": [
        "fig = plt.figure()\n",
        "ax = fig.add_subplot(111)\n",
        "weight_list = np.array(weight_list)\n",
        "plt.plot(weight_list[:,0],label=\"Theta0\")\n",
        "plt.plot(weight_list[:,1],label=\"Theta1\")\n",
        "plt.legend()\n",
        "plt.show()"
      ],
      "metadata": {
        "id": "_CAZ4ZBg24ma"
      },
      "execution_count": null,
      "outputs": []
    },
    {
      "cell_type": "markdown",
      "source": [
        "Prediction of the model"
      ],
      "metadata": {
        "id": "YoadkHGl2-G4"
      }
    },
    {
      "cell_type": "code",
      "source": [
        "fig = plt.figure()\n",
        "Y_hat = predict(X,weight)\n",
        "plt.scatter(X,Y)\n",
        "plt.plot(X,Y_hat,color='orange',label=\"Prediction\")\n",
        "plt.legend()\n",
        "plt.show()"
      ],
      "metadata": {
        "id": "KXnaOi_k2-r3"
      },
      "execution_count": null,
      "outputs": []
    },
    {
      "cell_type": "markdown",
      "source": [
        "Linear Regression for Multivariate Model\n"
      ],
      "metadata": {
        "id": "dCncd3YWZhzZ"
      }
    },
    {
      "cell_type": "code",
      "source": [
        "def hypothesis(X,W):\n",
        "  # y_hat = wo + w1*x1 + w2x2...Wnxn\n",
        "  # y_hat = X.W\n",
        "  y_hat = np.dot(X,W)\n",
        "  return y_hat"
      ],
      "metadata": {
        "id": "yOvKpX4HZg8y"
      },
      "execution_count": null,
      "outputs": []
    },
    {
      "cell_type": "code",
      "source": [
        "def error(X,Y,W):\n",
        "  n = X.shape[0]\n",
        "  Y_hat = hypothesis(X,W)\n",
        "  loss = (1/n)*(Y - Y_hat)**2\n",
        "  return loss"
      ],
      "metadata": {
        "id": "L15VhYf6aAA0"
      },
      "execution_count": null,
      "outputs": []
    },
    {
      "cell_type": "code",
      "source": [
        "def gradient(X,Y,W):\n",
        "  n = X.shape[0]\n",
        "  Y_hat = hypothesis(X,W)\n",
        "  grad = np.dot(-2*X.T,(Y-Y_hat))\n",
        "  return grad/n"
      ],
      "metadata": {
        "id": "L0eExinIerGR"
      },
      "execution_count": null,
      "outputs": []
    },
    {
      "cell_type": "code",
      "source": [
        "def gradient_descent(X,Y, learning_rate = 0.1, max_steps = 100):\n",
        "  n,d = X.shape\n",
        "  # step 1: starting weights\n",
        "  W = np.random.rand(d)\n",
        "  # step 2: do max_steps of gradient descent\n",
        "  error_list = []\n",
        "\n",
        "  for i in range(max_steps):\n",
        "      error_list.append(error(X, Y, W)) # storing error for plotting\n",
        "      gradients = gradient(X, Y, W)\n",
        "      W = W - learning_rate*gradients  # w0\n",
        "\n",
        "  return W, error_list"
      ],
      "metadata": {
        "id": "KRNLZqdCgFXg"
      },
      "execution_count": null,
      "outputs": []
    },
    {
      "cell_type": "markdown",
      "source": [
        " Polynomial Regression"
      ],
      "metadata": {
        "id": "256yCZ31Vdwm"
      }
    },
    {
      "cell_type": "markdown",
      "source": [
        "We represent the relationship between an independent variable (x) and a dependent variable (y) as a polynomial equation. This equation typically includes terms like x², x³, etc., in addition to the basic linear term (x).\n",
        "\n",
        "The degree of the polynomial determines the complexity of the model. Higher degrees can fit more intricate curves, but can also lead to overfitting (the model memorizes the data without capturing underlying patterns)."
      ],
      "metadata": {
        "id": "mr0o_hzLrbI_"
      }
    },
    {
      "cell_type": "code",
      "source": [
        "def polynomial_regression(x, degree):\n",
        "\n",
        "  # Create design matrix with powers of x up to the degree\n",
        "  poly = []\n",
        "  for i in range(len(x)):\n",
        "    row = [x[i]**j for j in range(degree + 1)]\n",
        "    poly.append(row)\n",
        "\n",
        "  # Convert matrix to NumPy arrays for efficient calculations\n",
        "  x = np.array(poly)\n",
        "\n",
        "  return x\n",
        " #We can use the matrix returned to compute weights and create ploynomial regression"
      ],
      "metadata": {
        "id": "U1yY_VlJVcB3"
      },
      "execution_count": null,
      "outputs": []
    }
  ]
}